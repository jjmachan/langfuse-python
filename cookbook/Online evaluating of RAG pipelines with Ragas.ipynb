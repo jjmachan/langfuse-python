{
 "cells": [
  {
   "cell_type": "markdown",
   "id": "1079e444-91e1-4b81-a28a-2ce4763f4bc4",
   "metadata": {},
   "source": [
    "# Online Evaluation of RAG pipelines with Ragas\n",
    "\n",
    "Langfuse offers the feature to score your traces and spans. They can be used in multiple ways across Langfuse:\n",
    "1. Displayed on trace to provide a quick overview\n",
    "2. Segment all execution traces by scores to e.g. find all traces with a low-quality score\n",
    "3. Analytics: Detailed score reporting with drill downs into use cases and user segments\n",
    "\n",
    "Ragas is an open-source tool that can help you run [Model-Based Evaluation](https://langfuse.com/docs/scores/model-based-evals) on your traces/spans, especially for RAG pipelines. Ragas can perform reference-free evaluations of various aspects of your RAG pipeline. Because it is reference-free you don't need ground-truths when running the evaluations.\n",
    "\n",
    "## The Data\n",
    "\n",
    "For this example, we are going to use a dataset that has already been prepared by querying a RAG system and gathering its outputs. The dataset contains the following columns\n",
    "- `question`: list[str] - These are the questions your RAG pipeline will be evaluated on.\n",
    "- `answer`: list[str] - The answer generated from the RAG pipeline and given to the user.\n",
    "- `contexts`: list[list[str]] - The contexts which were passed into the LLM to answer the question.\n",
    "- `ground_truths`: list[list[str]] - The ground truth answer to the questions. However, this can be ignored for online evaluations since we will not have access to ground-truth data in our case."
   ]
  },
  {
   "cell_type": "code",
   "execution_count": 10,
   "id": "ebfb8207-8ddc-4b61-bcbc-f257820bf671",
   "metadata": {},
   "outputs": [
    {
     "data": {
      "text/plain": [
       "Dataset({\n",
       "    features: ['question', 'ground_truths', 'answer', 'contexts'],\n",
       "    num_rows: 30\n",
       "})"
      ]
     },
     "execution_count": 10,
     "metadata": {},
     "output_type": "execute_result"
    }
   ],
   "source": [
    "from datasets import load_dataset\n",
    "\n",
    "fiqa_eval = load_dataset(\"explodinggradients/fiqa\", \"ragas_eval\")['baseline']\n",
    "fiqa_eval"
   ]
  },
  {
   "cell_type": "markdown",
   "id": "b889cb2a-f718-4104-a62b-7357f76742d5",
   "metadata": {},
   "source": [
    "## The Metrics\n",
    "For going to measure the following aspects of a RAG system. These metric and from the Ragas library.\n",
    "\n",
    "1. [faithfulness](https://docs.ragas.io/en/latest/concepts/metrics/faithfulness.html): This measures the factual consistency of the generated answer against the given context.\n",
    "2. [answer_relevency](https://docs.ragas.io/en/latest/concepts/metrics/answer_relevance.html): Answer Relevancy, focuses on assessing how pertinent the generated answer is to the given prompt.\n",
    "3. [aspect_critique](https://docs.ragas.io/en/latest/concepts/metrics/critique.html): This is designed to assess submissions based on predefined aspects such as harmlessness and correctness. Additionally, users have the flexibility to define their own aspects for evaluating submissions according to their specific criteria.\n",
    "\n",
    "Do reffer the documentation to know more about these metrics and how they work [{docs}](https://docs.ragas.io/en/latest/concepts/metrics/index.html)"
   ]
  },
  {
   "cell_type": "code",
   "execution_count": 44,
   "id": "33c49997-a491-4aae-bc7f-01adb61071f5",
   "metadata": {},
   "outputs": [
    {
     "name": "stdout",
     "output_type": "stream",
     "text": [
      "faithfulness\n",
      "answer_relevancy\n",
      "harmfulness\n",
      "maliciousness\n",
      "coherence\n",
      "correctness\n",
      "conciseness\n"
     ]
    }
   ],
   "source": [
    "# import metrics\n",
    "from ragas.metrics import faithfulness, answer_relevancy\n",
    "from ragas.metrics.critique import SUPPORTED_ASPECTS\n",
    "\n",
    "# metrics you chose\n",
    "metrics = [faithfulness, answer_relevancy, *SUPPORTED_ASPECTS]\n",
    "\n",
    "for m in metrics:\n",
    "    print(m.name)\n",
    "    # also init the metrics\n",
    "    m.init_model()"
   ]
  },
  {
   "cell_type": "markdown",
   "id": "23e21d8b-f72a-4043-b42e-4cf4c72d7dc8",
   "metadata": {},
   "source": [
    "## The Setup\n",
    "You can use model-based evaluation with Ragas in 2 ways\n",
    "1. Score each Trace: This means you will run the evalalutions for each trace item. This gives you much better idea since of how each call to your RAG pipelines is performing but can be expensive\n",
    "2. Score as Batch: In this method we will take a random sample of traces on a periodic basis and score them. This brings down cost and gives you a rough estimate the performance of your app but can miss out on important samples.\n",
    "\n",
    "In this cookbook, we'll show you how to setup both."
   ]
  },
  {
   "cell_type": "markdown",
   "id": "1e482dec-f02c-4fa1-bd07-d292a863cde5",
   "metadata": {},
   "source": [
    "## Score with Trace\n",
    "\n",
    "Lets take a small example of a single trace and see how you can score that with Ragas. First lets load the data"
   ]
  },
  {
   "cell_type": "code",
   "execution_count": 12,
   "id": "184b901f-9f08-4ab1-96c4-1c50586753a3",
   "metadata": {},
   "outputs": [
    {
     "data": {
      "text/plain": [
       "('How to deposit a cheque issued to an associate in my business into my business account?',\n",
       " '\\nThe best way to deposit a cheque issued to an associate in your business into your business account is to open a business account with the bank. You will need a state-issued \"dba\" certificate from the county clerk\\'s office as well as an Employer ID Number (EIN) issued by the IRS. Once you have opened the business account, you can have the associate sign the back of the cheque and deposit it into the business account.')"
      ]
     },
     "execution_count": 12,
     "metadata": {},
     "output_type": "execute_result"
    }
   ],
   "source": [
    "row = fiqa_eval[0]\n",
    "row['question'], row['answer']"
   ]
  },
  {
   "cell_type": "markdown",
   "id": "4f6138d0-2ace-4b0b-beb1-da9c20bd14a0",
   "metadata": {},
   "source": [
    "now lets init a langfuse client with your secrets. We are using the python SDK to instrument you app."
   ]
  },
  {
   "cell_type": "code",
   "execution_count": 3,
   "id": "c7b96a9d-d5d6-4155-849d-6f663477a139",
   "metadata": {},
   "outputs": [],
   "source": [
    "import json\n",
    "\n",
    "ENV_HOST = \"https://cloud.langfuse.com\"\n",
    "\n",
    "with open(\"../.envvals\") as f:\n",
    "    env_vals = json.load(f)"
   ]
  },
  {
   "cell_type": "code",
   "execution_count": 4,
   "id": "fb0e3d09-fdd6-4093-8dfe-917bc58129e9",
   "metadata": {},
   "outputs": [],
   "source": [
    "from langfuse import Langfuse\n",
    " \n",
    "langfuse = Langfuse(env_vals[\"ENV_PUBLIC_KEY\"], env_vals[\"ENV_SECRET_KEY\"], ENV_HOST)"
   ]
  },
  {
   "cell_type": "markdown",
   "id": "65cf5034-c2f2-4e5e-b0bc-af34dd414020",
   "metadata": {},
   "source": [
    "Here we are defining a utility function to score your trace with the metrics you chose."
   ]
  },
  {
   "cell_type": "code",
   "execution_count": 16,
   "id": "d9b0af86-f152-4e63-a7db-264e7f0ccb18",
   "metadata": {},
   "outputs": [],
   "source": [
    "def score_with_ragas(query, chunks, answer):\n",
    "    scores = {}\n",
    "    for m in metrics:\n",
    "        print(f\"calculating {m.name}\")\n",
    "        scores[m.name] = m.score_single(\n",
    "            {'question': query, 'contexts': chunks, 'answer': answer}\n",
    "        )\n",
    "    return scores"
   ]
  },
  {
   "cell_type": "markdown",
   "id": "b3b1e219-8319-4dfb-997b-0449a927e113",
   "metadata": {},
   "source": [
    "You compute the score with each request. Below I've outlined a dummy application that does the following steps\n",
    "1. gets a question from the user\n",
    "2. fetch context from the database or vector store that can be used to answer the question from the user\n",
    "3. pass the question and the contexts to the LLM to generate the answer\n",
    "\n",
    "All these step are logged as spans in a single trace in langfuse. You can read more about traces and spans from the [langfuse documentation](https://langfuse.com/docs/tracing)."
   ]
  },
  {
   "cell_type": "code",
   "execution_count": 21,
   "id": "f21a1623-5b47-4425-a6ed-e71a7d5bc25d",
   "metadata": {},
   "outputs": [
    {
     "name": "stdout",
     "output_type": "stream",
     "text": [
      "calculating faithfulness\n",
      "calculating answer_relevancy\n",
      "calculating harmfulness\n",
      "calculating maliciousness\n",
      "calculating coherence\n",
      "calculating correctness\n",
      "calculating conciseness\n"
     ]
    },
    {
     "data": {
      "text/plain": [
       "{'faithfulness': 1.0,\n",
       " 'answer_relevancy': 0.9774917345559153,\n",
       " 'harmfulness': 0,\n",
       " 'maliciousness': 0,\n",
       " 'coherence': 1,\n",
       " 'correctness': 1,\n",
       " 'conciseness': 1}"
      ]
     },
     "execution_count": 21,
     "metadata": {},
     "output_type": "execute_result"
    }
   ],
   "source": [
    "from langfuse.model import CreateTrace, CreateSpan, CreateGeneration, CreateEvent, CreateScore\n",
    "\n",
    "# start a new trace when you get a question\n",
    "question = row['question']\n",
    "trace = langfuse.trace(CreateTrace(name = \"rag\"))\n",
    "\n",
    "# retrieve the relevant chunks\n",
    "# chunks = get_similar_chunks(question)\n",
    "contexts = row['contexts']\n",
    "# pass it as span\n",
    "trace.span(CreateSpan(\n",
    "    name = \"retrieval\", input={'question': question}, output={'contexts': contexts}\n",
    "))\n",
    "\n",
    "# use llm to generate a answer with the chunks\n",
    "# answer = get_response_from_llm(question, chunks)\n",
    "answer = row['answer']\n",
    "trace.span(CreateSpan(\n",
    "    name = \"generation\", input={'question': question, 'contexts': contexts}, output={'answer': answer}\n",
    "))\n",
    "\n",
    "# compute scores for the question, context, answer tuple\n",
    "ragas_scores = score_with_ragas(question, contexts, answer)\n",
    "ragas_scores"
   ]
  },
  {
   "cell_type": "markdown",
   "id": "6403f6ac-807c-441c-9fe2-a6bf2f6771f3",
   "metadata": {},
   "source": [
    "Once the scores are computed you can score the trace with them."
   ]
  },
  {
   "cell_type": "code",
   "execution_count": 23,
   "id": "1f0d222b-1db3-44e9-ba98-3d2ba6ee00d2",
   "metadata": {},
   "outputs": [],
   "source": [
    "# sent the scores\n",
    "for m in metrics:\n",
    "    trace.score(CreateScore(name=m.name, value=ragas_scores[m.name]))"
   ]
  },
  {
   "cell_type": "markdown",
   "id": "19a0e5d0-3a67-46e0-b5c6-baf272dbea3b",
   "metadata": {},
   "source": [
    "![](./static/traces-score-ragas.png)"
   ]
  },
  {
   "cell_type": "markdown",
   "id": "4fd68b13-9743-424f-830a-c6d32e3d09c6",
   "metadata": {},
   "source": [
    "Note that the scoring is blocking so make sure that you sent the generated answer before waiting for the scores to get computed. Alternatively you can run `score_with_ragas()` in a seperate thread and pass in the trace_id to log the scores.\n",
    "\n",
    "Or you can consider"
   ]
  },
  {
   "cell_type": "markdown",
   "id": "605416ed-e0ba-43d2-8cc9-b2343ebbe309",
   "metadata": {},
   "source": [
    "## Scoring as batch\n",
    "\n",
    "Scoring each trace can be time-consuming and costly depending on your application architecture and traffic. In that case, it's better to start off with a batch scoring method. Decide a timespan you want to run the batch process and the number of traces you want to sample from that time slice. Create a dataset and call `ragas.evaluate` to analyse the result.\n",
    "\n",
    "You can run this periodically to keep track of how the scores are changing across timeslices and figure out if there are any discrepancies. \n",
    "\n",
    "To demo this lets first create ~10 traces with the fiqa dataset."
   ]
  },
  {
   "cell_type": "code",
   "execution_count": 26,
   "id": "66910fc2-b84f-4a44-947a-854ca6fb48e2",
   "metadata": {},
   "outputs": [],
   "source": [
    "# fiqa traces\n",
    "for interaction in fiqa_eval.select(range(10, 20)):\n",
    "    trace = langfuse.trace(CreateTrace(name = \"rag\"))\n",
    "    trace.span(CreateSpan(\n",
    "        name = \"retrieval\", \n",
    "        input={'question': question}, \n",
    "        output={'contexts': contexts}\n",
    "    ))\n",
    "    trace.span(CreateSpan(\n",
    "        name = \"generation\", \n",
    "        input={'question': question, 'contexts': contexts}, \n",
    "        output={'answer': answer}\n",
    "    ))\n",
    "\n",
    "# make sure everything is complete\n",
    "langfuse.flush()"
   ]
  },
  {
   "cell_type": "markdown",
   "id": "061d56ac-8acc-4537-b6c0-591d92cb8806",
   "metadata": {},
   "source": [
    "Now that the dataset is uploaded to langfuse you can retrieve it as needed with this handy function."
   ]
  },
  {
   "cell_type": "code",
   "execution_count": 35,
   "id": "25f13042-b8b8-44bb-803d-b790c39c39f4",
   "metadata": {},
   "outputs": [],
   "source": [
    "def get_traces(name=None, limit=None, user_id=None):\n",
    "    all_data = []\n",
    "    page = 1 \n",
    "\n",
    "    while True:\n",
    "        response = langfuse.client.trace.list(\n",
    "            name=name, page=page, user_id=user_id\n",
    "        )\n",
    "        if not response.data:\n",
    "            break\n",
    "        page += 1\n",
    "        all_data.extend(response.data)\n",
    "        if len(all_data) > limit:\n",
    "            break\n",
    "\n",
    "    return all_data[:limit]"
   ]
  },
  {
   "cell_type": "code",
   "execution_count": 46,
   "id": "c0b778cc-cb02-43d6-a81b-fc586905d81e",
   "metadata": {},
   "outputs": [
    {
     "data": {
      "text/plain": [
       "3"
      ]
     },
     "execution_count": 46,
     "metadata": {},
     "output_type": "execute_result"
    }
   ],
   "source": [
    "NUM_TRACES_TO_SAMPLE = 3\n",
    "traces = get_traces(name='rag', limit=5)\n",
    "traces_sample = sample(traces, NUM_TRACES_TO_SAMPLE)\n",
    "\n",
    "len(traces_sample)"
   ]
  },
  {
   "cell_type": "markdown",
   "id": "d37337dd-fe8a-4a4e-b2fc-f7435cf0eb51",
   "metadata": {},
   "source": [
    "Now lets make a batch and score it. Ragas uses huggingface dataset object to build the dataset and run the evaluation. "
   ]
  },
  {
   "cell_type": "code",
   "execution_count": 37,
   "id": "d3928d37-1b60-471e-a99d-8a158ea8652b",
   "metadata": {},
   "outputs": [],
   "source": [
    "# score on a sample\n",
    "from random import sample\n",
    "\n",
    "evaluation_batch = {\n",
    "    \"question\": [],\n",
    "    \"contexts\": [],\n",
    "    \"answer\": [],\n",
    "}\n",
    "\n",
    "for t in traces_sample:\n",
    "    observations = [langfuse.client.observations.get(o) for o in t.observations]\n",
    "    for o in observations:\n",
    "        if o.name == 'retrieval':\n",
    "            question = o.input['question']\n",
    "            contexts = o.output['contexts']\n",
    "        if o.name=='generation':\n",
    "            answer = o.output['answer']\n",
    "    evaluation_batch['question'].append(question)\n",
    "    evaluation_batch['contexts'].append(contexts)\n",
    "    evaluation_batch['answer'].append(answer)"
   ]
  },
  {
   "cell_type": "code",
   "execution_count": 38,
   "id": "bf83f16d-4c15-484d-9ed2-e696aa8a0e28",
   "metadata": {},
   "outputs": [
    {
     "name": "stdout",
     "output_type": "stream",
     "text": [
      "evaluating with [faithfulness]\n"
     ]
    },
    {
     "name": "stderr",
     "output_type": "stream",
     "text": [
      "100%|█████████████████████████████████████████████████████████████| 1/1 [00:41<00:00, 41.68s/it]\n"
     ]
    },
    {
     "name": "stdout",
     "output_type": "stream",
     "text": [
      "evaluating with [answer_relevancy]\n"
     ]
    },
    {
     "name": "stderr",
     "output_type": "stream",
     "text": [
      "100%|█████████████████████████████████████████████████████████████| 1/1 [00:07<00:00,  7.79s/it]\n"
     ]
    }
   ],
   "source": [
    "# run ragas evaluate\n",
    "from datasets import Dataset\n",
    "from ragas import evaluate\n",
    "from ragas.metrics import faithfulness, answer_relevancy\n",
    "\n",
    "ds = Dataset.from_dict(evaluation_batch)\n",
    "r = evaluate(ds, metrics=[faithfulness, answer_relevancy])"
   ]
  },
  {
   "cell_type": "code",
   "execution_count": 39,
   "id": "ecf51162-edc3-4c54-9fce-89595d01004d",
   "metadata": {},
   "outputs": [
    {
     "data": {
      "text/plain": [
       "{'ragas_score': 0.9309, 'faithfulness': 0.8889, 'answer_relevancy': 0.9771}"
      ]
     },
     "execution_count": 39,
     "metadata": {},
     "output_type": "execute_result"
    }
   ],
   "source": [
    "r"
   ]
  },
  {
   "cell_type": "markdown",
   "id": "d50f869a-50ab-4040-8b48-fb5c8eecb9b8",
   "metadata": {},
   "source": [
    "And that is it! you can see the scores over a time period. You can also run futher analysis over it by exporting it as a pandas dataframe too."
   ]
  },
  {
   "cell_type": "code",
   "execution_count": 40,
   "id": "d7a29a69-fd90-4abc-b3f0-9ccf8ea2900f",
   "metadata": {},
   "outputs": [
    {
     "data": {
      "text/html": [
       "<div>\n",
       "<style scoped>\n",
       "    .dataframe tbody tr th:only-of-type {\n",
       "        vertical-align: middle;\n",
       "    }\n",
       "\n",
       "    .dataframe tbody tr th {\n",
       "        vertical-align: top;\n",
       "    }\n",
       "\n",
       "    .dataframe thead th {\n",
       "        text-align: right;\n",
       "    }\n",
       "</style>\n",
       "<table border=\"1\" class=\"dataframe\">\n",
       "  <thead>\n",
       "    <tr style=\"text-align: right;\">\n",
       "      <th></th>\n",
       "      <th>question</th>\n",
       "      <th>contexts</th>\n",
       "      <th>answer</th>\n",
       "      <th>faithfulness</th>\n",
       "      <th>answer_relevancy</th>\n",
       "    </tr>\n",
       "  </thead>\n",
       "  <tbody>\n",
       "    <tr>\n",
       "      <th>0</th>\n",
       "      <td>How to deposit a cheque issued to an associate...</td>\n",
       "      <td>[Just have the associate sign the back and the...</td>\n",
       "      <td>\\nThe best way to deposit a cheque issued to a...</td>\n",
       "      <td>1.000000</td>\n",
       "      <td>0.976909</td>\n",
       "    </tr>\n",
       "    <tr>\n",
       "      <th>1</th>\n",
       "      <td>How to deposit a cheque issued to an associate...</td>\n",
       "      <td>[Just have the associate sign the back and the...</td>\n",
       "      <td>\\nThe best way to deposit a cheque issued to a...</td>\n",
       "      <td>1.000000</td>\n",
       "      <td>0.977494</td>\n",
       "    </tr>\n",
       "    <tr>\n",
       "      <th>2</th>\n",
       "      <td>How to deposit a cheque issued to an associate...</td>\n",
       "      <td>[Just have the associate sign the back and the...</td>\n",
       "      <td>\\nThe best way to deposit a cheque issued to a...</td>\n",
       "      <td>0.666667</td>\n",
       "      <td>0.976900</td>\n",
       "    </tr>\n",
       "  </tbody>\n",
       "</table>\n",
       "</div>"
      ],
      "text/plain": [
       "                                            question  ... answer_relevancy\n",
       "0  How to deposit a cheque issued to an associate...  ...         0.976909\n",
       "1  How to deposit a cheque issued to an associate...  ...         0.977494\n",
       "2  How to deposit a cheque issued to an associate...  ...         0.976900\n",
       "\n",
       "[3 rows x 5 columns]"
      ]
     },
     "execution_count": 40,
     "metadata": {},
     "output_type": "execute_result"
    }
   ],
   "source": [
    "df = r.to_pandas()\n",
    "df.head()"
   ]
  }
 ],
 "metadata": {
  "kernelspec": {
   "display_name": "Python 3 (ipykernel)",
   "language": "python",
   "name": "python3"
  },
  "language_info": {
   "codemirror_mode": {
    "name": "ipython",
    "version": 3
   },
   "file_extension": ".py",
   "mimetype": "text/x-python",
   "name": "python",
   "nbconvert_exporter": "python",
   "pygments_lexer": "ipython3",
   "version": "3.10.12"
  }
 },
 "nbformat": 4,
 "nbformat_minor": 5
}
