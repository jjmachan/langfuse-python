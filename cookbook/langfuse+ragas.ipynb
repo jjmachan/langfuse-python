{
 "cells": [
  {
   "cell_type": "markdown",
   "id": "1079e444-91e1-4b81-a28a-2ce4763f4bc4",
   "metadata": {},
   "source": [
    "# Langfuse + Ragas\n",
    "\n",
    "## Prepare the Data"
   ]
  },
  {
   "cell_type": "code",
   "execution_count": 19,
   "id": "ebfb8207-8ddc-4b61-bcbc-f257820bf671",
   "metadata": {},
   "outputs": [
    {
     "data": {
      "text/plain": [
       "Dataset({\n",
       "    features: ['question', 'ground_truths', 'answer', 'contexts'],\n",
       "    num_rows: 30\n",
       "})"
      ]
     },
     "execution_count": 19,
     "metadata": {},
     "output_type": "execute_result"
    }
   ],
   "source": [
    "from datasets import load_dataset\n",
    "\n",
    "fiqa_eval = load_dataset(\"explodinggradients/fiqa\", \"ragas_eval\")['baseline']\n",
    "fiqa_eval"
   ]
  },
  {
   "cell_type": "markdown",
   "id": "1e482dec-f02c-4fa1-bd07-d292a863cde5",
   "metadata": {},
   "source": [
    "## Score with Trace"
   ]
  },
  {
   "cell_type": "code",
   "execution_count": 22,
   "id": "45a78903-08db-4247-b004-0dbb8d198d9d",
   "metadata": {},
   "outputs": [],
   "source": [
    "ENV_HOST = \"https://cloud.langfuse.com\"\n",
    "ENV_SECRET_KEY = \"sk-lf-9ef3e2b8-c5ec-4d51-b530-277e5bb98b26\"\n",
    "ENV_PUBLIC_KEY = \"pk-lf-83fe3fe9-b4c5-4269-b387-86257297cc3a\""
   ]
  },
  {
   "cell_type": "code",
   "execution_count": 23,
   "id": "fb0e3d09-fdd6-4093-8dfe-917bc58129e9",
   "metadata": {},
   "outputs": [],
   "source": [
    "from langfuse import Langfuse\n",
    " \n",
    "langfuse = Langfuse(ENV_PUBLIC_KEY, ENV_SECRET_KEY, ENV_HOST)"
   ]
  },
  {
   "cell_type": "code",
   "execution_count": 25,
   "id": "184b901f-9f08-4ab1-96c4-1c50586753a3",
   "metadata": {},
   "outputs": [],
   "source": [
    "row = fiqa_eval[0]"
   ]
  },
  {
   "cell_type": "code",
   "execution_count": 28,
   "id": "4a507279-3699-4895-806f-3d9b24cdb51c",
   "metadata": {},
   "outputs": [],
   "source": [
    "from ragas.metrics import faithfulness, answer_relevancy"
   ]
  },
  {
   "cell_type": "code",
   "execution_count": 34,
   "id": "f21a1623-5b47-4425-a6ed-e71a7d5bc25d",
   "metadata": {},
   "outputs": [],
   "source": [
    "from langfuse.model import CreateTrace, CreateSpan, CreateGeneration, CreateEvent, CreateScore\n",
    " \n",
    "trace = langfuse.trace(CreateTrace(name = \"rag\"))\n",
    "trace.span(CreateSpan(\n",
    "    name = \"retrieval\", input={'query': row['question']}, output={'chunks': row['contexts']}\n",
    "))\n",
    "trace.span(CreateSpan(\n",
    "    name = \"generation\", input={'contexts': row['contexts']}, output={'answer': row['answer']}\n",
    "))\n",
    "\n",
    "faithfulness_score = faithfulness.score_single(\n",
    "    {'question': row['question'], 'contexts': row['contexts'], 'answer': row['answer']}\n",
    ")\n",
    "answer_relevancy.init_model()\n",
    "answer_relevancy_score = answer_relevancy.score_single(\n",
    "    {'question': row['question'], 'answer': row['answer']}\n",
    ")"
   ]
  },
  {
   "cell_type": "code",
   "execution_count": 38,
   "id": "1f0d222b-1db3-44e9-ba98-3d2ba6ee00d2",
   "metadata": {},
   "outputs": [
    {
     "data": {
      "text/plain": [
       "<langfuse.client.StatefulClient at 0x7efd5192bf40>"
      ]
     },
     "execution_count": 38,
     "metadata": {},
     "output_type": "execute_result"
    }
   ],
   "source": [
    "trace.score(CreateScore(name='faithfulness', value=faithfulness_score))\n",
    "trace.score(CreateScore(name='answer_relevancy', value=answer_relevancy_score))"
   ]
  },
  {
   "cell_type": "markdown",
   "id": "605416ed-e0ba-43d2-8cc9-b2343ebbe309",
   "metadata": {},
   "source": [
    "# Scoring as batch"
   ]
  },
  {
   "cell_type": "code",
   "execution_count": 42,
   "id": "25f13042-b8b8-44bb-803d-b790c39c39f4",
   "metadata": {},
   "outputs": [
    {
     "ename": "ValidationError",
     "evalue": "2 validation errors for ParsingModel[Traces]\n__root__ -> data -> 0 -> scores\n  field required (type=value_error.missing)\n__root__ -> data -> 1 -> scores\n  field required (type=value_error.missing)",
     "output_type": "error",
     "traceback": [
      "\u001b[0;31m---------------------------------------------------------------------------\u001b[0m",
      "\u001b[0;31mValidationError\u001b[0m                           Traceback (most recent call last)",
      "Cell \u001b[0;32mIn[42], line 1\u001b[0m\n\u001b[0;32m----> 1\u001b[0m \u001b[43mlangfuse\u001b[49m\u001b[38;5;241;43m.\u001b[39;49m\u001b[43mclient\u001b[49m\u001b[38;5;241;43m.\u001b[39;49m\u001b[43mtrace\u001b[49m\u001b[38;5;241;43m.\u001b[39;49m\u001b[43mlist\u001b[49m\u001b[43m(\u001b[49m\u001b[43mname\u001b[49m\u001b[38;5;241;43m=\u001b[39;49m\u001b[38;5;124;43m'\u001b[39;49m\u001b[38;5;124;43msummary-generation\u001b[39;49m\u001b[38;5;124;43m'\u001b[39;49m\u001b[43m)\u001b[49m\n",
      "File \u001b[0;32m~/.pyenv/versions/3.10.12/envs/ragas-test/lib/python3.10/site-packages/langfuse/api/resources/trace/client.py:136\u001b[0m, in \u001b[0;36mTraceClient.list\u001b[0;34m(self, page, limit, user_id, name)\u001b[0m\n\u001b[1;32m    119\u001b[0m _response \u001b[38;5;241m=\u001b[39m httpx\u001b[38;5;241m.\u001b[39mrequest(\n\u001b[1;32m    120\u001b[0m     \u001b[38;5;124m\"\u001b[39m\u001b[38;5;124mGET\u001b[39m\u001b[38;5;124m\"\u001b[39m,\n\u001b[1;32m    121\u001b[0m     urllib\u001b[38;5;241m.\u001b[39mparse\u001b[38;5;241m.\u001b[39murljoin(\u001b[38;5;124mf\u001b[39m\u001b[38;5;124m\"\u001b[39m\u001b[38;5;132;01m{\u001b[39;00m\u001b[38;5;28mself\u001b[39m\u001b[38;5;241m.\u001b[39m_environment\u001b[38;5;132;01m}\u001b[39;00m\u001b[38;5;124m/\u001b[39m\u001b[38;5;124m\"\u001b[39m, \u001b[38;5;124m\"\u001b[39m\u001b[38;5;124mapi/public/traces\u001b[39m\u001b[38;5;124m\"\u001b[39m),\n\u001b[0;32m   (...)\u001b[0m\n\u001b[1;32m    133\u001b[0m     timeout\u001b[38;5;241m=\u001b[39m\u001b[38;5;241m60\u001b[39m,\n\u001b[1;32m    134\u001b[0m )\n\u001b[1;32m    135\u001b[0m \u001b[38;5;28;01mif\u001b[39;00m \u001b[38;5;241m200\u001b[39m \u001b[38;5;241m<\u001b[39m\u001b[38;5;241m=\u001b[39m _response\u001b[38;5;241m.\u001b[39mstatus_code \u001b[38;5;241m<\u001b[39m \u001b[38;5;241m300\u001b[39m:\n\u001b[0;32m--> 136\u001b[0m     \u001b[38;5;28;01mreturn\u001b[39;00m \u001b[43mpydantic\u001b[49m\u001b[38;5;241;43m.\u001b[39;49m\u001b[43mparse_obj_as\u001b[49m\u001b[43m(\u001b[49m\u001b[43mTraces\u001b[49m\u001b[43m,\u001b[49m\u001b[43m \u001b[49m\u001b[43m_response\u001b[49m\u001b[38;5;241;43m.\u001b[39;49m\u001b[43mjson\u001b[49m\u001b[43m(\u001b[49m\u001b[43m)\u001b[49m\u001b[43m)\u001b[49m  \u001b[38;5;66;03m# type: ignore\u001b[39;00m\n\u001b[1;32m    137\u001b[0m \u001b[38;5;28;01mif\u001b[39;00m _response\u001b[38;5;241m.\u001b[39mstatus_code \u001b[38;5;241m==\u001b[39m \u001b[38;5;241m400\u001b[39m:\n\u001b[1;32m    138\u001b[0m     \u001b[38;5;28;01mraise\u001b[39;00m Error(pydantic\u001b[38;5;241m.\u001b[39mparse_obj_as(\u001b[38;5;28mstr\u001b[39m, _response\u001b[38;5;241m.\u001b[39mjson()))  \u001b[38;5;66;03m# type: ignore\u001b[39;00m\n",
      "File \u001b[0;32m~/.pyenv/versions/3.10.12/envs/ragas-test/lib/python3.10/site-packages/pydantic/tools.py:38\u001b[0m, in \u001b[0;36mpydantic.tools.parse_obj_as\u001b[0;34m()\u001b[0m\n",
      "File \u001b[0;32m~/.pyenv/versions/3.10.12/envs/ragas-test/lib/python3.10/site-packages/pydantic/main.py:341\u001b[0m, in \u001b[0;36mpydantic.main.BaseModel.__init__\u001b[0;34m()\u001b[0m\n",
      "\u001b[0;31mValidationError\u001b[0m: 2 validation errors for ParsingModel[Traces]\n__root__ -> data -> 0 -> scores\n  field required (type=value_error.missing)\n__root__ -> data -> 1 -> scores\n  field required (type=value_error.missing)"
     ]
    }
   ],
   "source": [
    "langfuse.client.trace.list(name='summary-generation')"
   ]
  },
  {
   "cell_type": "code",
   "execution_count": null,
   "id": "c0b778cc-cb02-43d6-a81b-fc586905d81e",
   "metadata": {},
   "outputs": [],
   "source": [
    "for i in "
   ]
  },
  {
   "cell_type": "code",
   "execution_count": 7,
   "id": "e2b07252-a19f-4132-bf74-85bad1216c30",
   "metadata": {},
   "outputs": [],
   "source": [
    "def fetch_all_pages(name=None, user_id = None, limit=50):\n",
    "    page = 1\n",
    "    all_data = []\n",
    " \n",
    "    while True:\n",
    "        response = langfuse.get_generations(name=name, limit=limit, user_id=user_id, page=page)\n",
    "        if not response.data:\n",
    "            break\n",
    " \n",
    "        all_data.extend(response.data)\n",
    "        page += 1\n",
    " \n",
    "    return all_data"
   ]
  },
  {
   "cell_type": "code",
   "execution_count": 8,
   "id": "6da9b1a5-21ca-4472-8c33-f55ef77ba52b",
   "metadata": {},
   "outputs": [
    {
     "name": "stdout",
     "output_type": "stream",
     "text": [
      "2\n"
     ]
    }
   ],
   "source": [
    "generations = fetch_all_pages(name=\"summary-generation\")\n",
    "print(len(generations))"
   ]
  },
  {
   "cell_type": "code",
   "execution_count": 17,
   "id": "2cd99780-81ce-4d94-966d-def638a040c1",
   "metadata": {},
   "outputs": [],
   "source": [
    "import os\n",
    "from langchain.evaluation import load_evaluator, EvaluatorType\n",
    "from langchain import PromptTemplate, OpenAI, LLMChain\n",
    "from langchain.evaluation.criteria import LabeledCriteriaEvalChain\n",
    "\n",
    "\n",
    "EVAL_TYPES={\n",
    "    \"hallucination\": True,\n",
    "    \"conciseness\": True,\n",
    "    \"relevance\": True,\n",
    "    \"coherence\": True,\n",
    "    \"harmfulness\": True,\n",
    "    \"maliciousness\": True,\n",
    "    \"helpfulness\": True,\n",
    "    \"controversiality\": True,\n",
    "    \"misogyny\": True,\n",
    "    \"criminality\": True,\n",
    "    \"insensitivity\": True\n",
    "}\n",
    "\n",
    "\n",
    "def get_evaluator_for_key(key: str):\n",
    "  llm = OpenAI(temperature=0)\n",
    "  return load_evaluator(\"criteria\", criteria=key, llm=llm)\n",
    " \n",
    "def get_hallucination_eval():\n",
    "  criteria = {\n",
    "    \"hallucination\": (\n",
    "      \"Does this submission contain information\"\n",
    "      \" not present in the input or reference?\"\n",
    "    ),\n",
    "  }\n",
    "  llm = OpenAI(temperature=0)\n",
    " \n",
    "  return LabeledCriteriaEvalChain.from_llm(\n",
    "      llm=llm,\n",
    "      criteria=criteria,\n",
    "  )"
   ]
  },
  {
   "cell_type": "code",
   "execution_count": 18,
   "id": "299f0721-251c-4254-93bc-7ea299f0131d",
   "metadata": {},
   "outputs": [
    {
     "ename": "AttributeError",
     "evalue": "'Observation' object has no attribute 'completion'",
     "output_type": "error",
     "traceback": [
      "\u001b[0;31m---------------------------------------------------------------------------\u001b[0m",
      "\u001b[0;31mAttributeError\u001b[0m                            Traceback (most recent call last)",
      "Cell \u001b[0;32mIn[18], line 18\u001b[0m\n\u001b[1;32m     14\u001b[0m       \u001b[38;5;28mprint\u001b[39m(eval_result)\n\u001b[1;32m     16\u001b[0m       langfuse\u001b[38;5;241m.\u001b[39mscore(InitialScore(name\u001b[38;5;241m=\u001b[39mcriterion, traceId\u001b[38;5;241m=\u001b[39mgeneration\u001b[38;5;241m.\u001b[39mtrace_id, observationId\u001b[38;5;241m=\u001b[39mgeneration\u001b[38;5;241m.\u001b[39mid, value\u001b[38;5;241m=\u001b[39meval_result[\u001b[38;5;124m\"\u001b[39m\u001b[38;5;124mscore\u001b[39m\u001b[38;5;124m\"\u001b[39m], comment\u001b[38;5;241m=\u001b[39meval_result[\u001b[38;5;124m'\u001b[39m\u001b[38;5;124mreasoning\u001b[39m\u001b[38;5;124m'\u001b[39m]))\n\u001b[0;32m---> 18\u001b[0m \u001b[43mexecute_eval_and_score\u001b[49m\u001b[43m(\u001b[49m\u001b[43m)\u001b[49m\n",
      "Cell \u001b[0;32mIn[18], line 11\u001b[0m, in \u001b[0;36mexecute_eval_and_score\u001b[0;34m()\u001b[0m\n\u001b[1;32m      7\u001b[0m criteria \u001b[38;5;241m=\u001b[39m [key \u001b[38;5;28;01mfor\u001b[39;00m key, value \u001b[38;5;129;01min\u001b[39;00m EVAL_TYPES\u001b[38;5;241m.\u001b[39mitems() \u001b[38;5;28;01mif\u001b[39;00m value \u001b[38;5;129;01mand\u001b[39;00m key \u001b[38;5;241m!=\u001b[39m \u001b[38;5;124m\"\u001b[39m\u001b[38;5;124mhallucination\u001b[39m\u001b[38;5;124m\"\u001b[39m]\n\u001b[1;32m      9\u001b[0m \u001b[38;5;28;01mfor\u001b[39;00m criterion \u001b[38;5;129;01min\u001b[39;00m criteria:\n\u001b[1;32m     10\u001b[0m   eval_result \u001b[38;5;241m=\u001b[39m get_evaluator_for_key(criterion)\u001b[38;5;241m.\u001b[39mevaluate_strings(\n\u001b[0;32m---> 11\u001b[0m       prediction\u001b[38;5;241m=\u001b[39m\u001b[43mgeneration\u001b[49m\u001b[38;5;241;43m.\u001b[39;49m\u001b[43mcompletion\u001b[49m,\n\u001b[1;32m     12\u001b[0m       \u001b[38;5;28minput\u001b[39m\u001b[38;5;241m=\u001b[39mgeneration\u001b[38;5;241m.\u001b[39mprompt,\n\u001b[1;32m     13\u001b[0m   )\n\u001b[1;32m     14\u001b[0m   \u001b[38;5;28mprint\u001b[39m(eval_result)\n\u001b[1;32m     16\u001b[0m   langfuse\u001b[38;5;241m.\u001b[39mscore(InitialScore(name\u001b[38;5;241m=\u001b[39mcriterion, traceId\u001b[38;5;241m=\u001b[39mgeneration\u001b[38;5;241m.\u001b[39mtrace_id, observationId\u001b[38;5;241m=\u001b[39mgeneration\u001b[38;5;241m.\u001b[39mid, value\u001b[38;5;241m=\u001b[39meval_result[\u001b[38;5;124m\"\u001b[39m\u001b[38;5;124mscore\u001b[39m\u001b[38;5;124m\"\u001b[39m], comment\u001b[38;5;241m=\u001b[39meval_result[\u001b[38;5;124m'\u001b[39m\u001b[38;5;124mreasoning\u001b[39m\u001b[38;5;124m'\u001b[39m]))\n",
      "\u001b[0;31mAttributeError\u001b[0m: 'Observation' object has no attribute 'completion'"
     ]
    }
   ],
   "source": [
    "from langfuse.model import InitialScore\n",
    " \n",
    " \n",
    "def execute_eval_and_score():\n",
    " \n",
    "  for generation in generations:\n",
    "    criteria = [key for key, value in EVAL_TYPES.items() if value and key != \"hallucination\"]\n",
    " \n",
    "    for criterion in criteria:\n",
    "      eval_result = get_evaluator_for_key(criterion).evaluate_strings(\n",
    "          prediction=generation.completion,\n",
    "          input=generation.prompt,\n",
    "      )\n",
    "      print(eval_result)\n",
    " \n",
    "      langfuse.score(InitialScore(name=criterion, traceId=generation.trace_id, observationId=generation.id, value=eval_result[\"score\"], comment=eval_result['reasoning']))\n",
    " \n",
    "execute_eval_and_score()\n",
    " "
   ]
  },
  {
   "cell_type": "code",
   "execution_count": null,
   "id": "d3928d37-1b60-471e-a99d-8a158ea8652b",
   "metadata": {},
   "outputs": [],
   "source": []
  }
 ],
 "metadata": {
  "kernelspec": {
   "display_name": "Python 3 (ipykernel)",
   "language": "python",
   "name": "python3"
  },
  "language_info": {
   "codemirror_mode": {
    "name": "ipython",
    "version": 3
   },
   "file_extension": ".py",
   "mimetype": "text/x-python",
   "name": "python",
   "nbconvert_exporter": "python",
   "pygments_lexer": "ipython3",
   "version": "3.10.12"
  }
 },
 "nbformat": 4,
 "nbformat_minor": 5
}
