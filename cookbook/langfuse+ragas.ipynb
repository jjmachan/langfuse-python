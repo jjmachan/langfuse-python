{
 "cells": [
  {
   "cell_type": "code",
   "execution_count": 1,
   "id": "9c5ae3ac-6725-4aa7-8686-546f69b0cc41",
   "metadata": {},
   "outputs": [],
   "source": [
    "%load_ext autoreload\n",
    "%autoreload 2"
   ]
  },
  {
   "cell_type": "markdown",
   "id": "1079e444-91e1-4b81-a28a-2ce4763f4bc4",
   "metadata": {},
   "source": [
    "# Langfuse + Ragas\n",
    "\n",
    "## Prepare the Data"
   ]
  },
  {
   "cell_type": "code",
   "execution_count": 2,
   "id": "ebfb8207-8ddc-4b61-bcbc-f257820bf671",
   "metadata": {},
   "outputs": [
    {
     "data": {
      "text/plain": [
       "Dataset({\n",
       "    features: ['question', 'ground_truths', 'answer', 'contexts'],\n",
       "    num_rows: 30\n",
       "})"
      ]
     },
     "execution_count": 2,
     "metadata": {},
     "output_type": "execute_result"
    }
   ],
   "source": [
    "from datasets import load_dataset\n",
    "\n",
    "fiqa_eval = load_dataset(\"explodinggradients/fiqa\", \"ragas_eval\")['baseline']\n",
    "fiqa_eval"
   ]
  },
  {
   "cell_type": "markdown",
   "id": "1e482dec-f02c-4fa1-bd07-d292a863cde5",
   "metadata": {},
   "source": [
    "## Score with Trace"
   ]
  },
  {
   "cell_type": "code",
   "execution_count": 6,
   "id": "c7b96a9d-d5d6-4155-849d-6f663477a139",
   "metadata": {},
   "outputs": [],
   "source": [
    "import json\n",
    "\n",
    "with open(\"../.envvals\") as f:\n",
    "    env_vals = json.load(f)"
   ]
  },
  {
   "cell_type": "code",
   "execution_count": 3,
   "id": "45a78903-08db-4247-b004-0dbb8d198d9d",
   "metadata": {},
   "outputs": [],
   "source": [
    "ENV_HOST = \"https://cloud.langfuse.com\"\n",
    "ENV_SECRET_KEY = \"\"\n",
    "ENV_PUBLIC_KEY = \"\""
   ]
  },
  {
   "cell_type": "code",
   "execution_count": 4,
   "id": "fb0e3d09-fdd6-4093-8dfe-917bc58129e9",
   "metadata": {},
   "outputs": [],
   "source": [
    "from langfuse import Langfuse\n",
    " \n",
    "langfuse = Langfuse(ENV_PUBLIC_KEY, ENV_SECRET_KEY, ENV_HOST)"
   ]
  },
  {
   "cell_type": "code",
   "execution_count": 25,
   "id": "184b901f-9f08-4ab1-96c4-1c50586753a3",
   "metadata": {},
   "outputs": [],
   "source": [
    "row = fiqa_eval[0]"
   ]
  },
  {
   "cell_type": "code",
   "execution_count": 28,
   "id": "4a507279-3699-4895-806f-3d9b24cdb51c",
   "metadata": {},
   "outputs": [],
   "source": [
    "from ragas.metrics import faithfulness, answer_relevancy"
   ]
  },
  {
   "cell_type": "markdown",
   "id": "b3b1e219-8319-4dfb-997b-0449a927e113",
   "metadata": {},
   "source": [
    "Score each time you make a trace with langfuse. We can also put this this the `TaskManager` and run scoring as in the other thread so that its not a blocking call for the user.\n",
    "\n",
    "**TODO: add scoreing to `TaskManager`**"
   ]
  },
  {
   "cell_type": "code",
   "execution_count": 34,
   "id": "f21a1623-5b47-4425-a6ed-e71a7d5bc25d",
   "metadata": {},
   "outputs": [],
   "source": [
    "from langfuse.model import CreateTrace, CreateSpan, CreateGeneration, CreateEvent, CreateScore\n",
    " \n",
    "trace = langfuse.trace(CreateTrace(name = \"rag\"))\n",
    "trace.span(CreateSpan(\n",
    "    name = \"retrieval\", input={'query': row['question']}, output={'chunks': row['contexts']}\n",
    "))\n",
    "trace.span(CreateSpan(\n",
    "    name = \"generation\", input={'contexts': row['contexts']}, output={'answer': row['answer']}\n",
    "))\n",
    "\n",
    "faithfulness_score = faithfulness.score_single(\n",
    "    {'question': row['question'], 'contexts': row['contexts'], 'answer': row['answer']}\n",
    ")\n",
    "answer_relevancy.init_model()\n",
    "answer_relevancy_score = answer_relevancy.score_single(\n",
    "    {'question': row['question'], 'answer': row['answer']}\n",
    ")"
   ]
  },
  {
   "cell_type": "code",
   "execution_count": 38,
   "id": "1f0d222b-1db3-44e9-ba98-3d2ba6ee00d2",
   "metadata": {},
   "outputs": [
    {
     "data": {
      "text/plain": [
       "<langfuse.client.StatefulClient at 0x7efd5192bf40>"
      ]
     },
     "execution_count": 38,
     "metadata": {},
     "output_type": "execute_result"
    }
   ],
   "source": [
    "trace.score(CreateScore(name='faithfulness', value=faithfulness_score))\n",
    "trace.score(CreateScore(name='answer_relevancy', value=answer_relevancy_score))"
   ]
  },
  {
   "cell_type": "markdown",
   "id": "605416ed-e0ba-43d2-8cc9-b2343ebbe309",
   "metadata": {},
   "source": [
    "# Scoring as batch\n",
    "\n",
    "for `get_traces` I think it would be cool to add something like this to the langfuse SDK, similar to `get_generations`. Optionally there should be something to give a date window too."
   ]
  },
  {
   "cell_type": "code",
   "execution_count": 38,
   "id": "25f13042-b8b8-44bb-803d-b790c39c39f4",
   "metadata": {},
   "outputs": [],
   "source": [
    "def get_traces(page=None, limit=None, name=None, user_id=None):\n",
    "    all_data = []\n",
    "    page = 1\n",
    "\n",
    "    while True:\n",
    "        response = langfuse.client.trace.list(\n",
    "            name=name, page=page, limit=limit, user_id=user_id\n",
    "        )\n",
    "        if not response.data:\n",
    "            break\n",
    "        page += 1\n",
    "        all_data.extend(response.data)\n",
    "\n",
    "    return all_data"
   ]
  },
  {
   "cell_type": "code",
   "execution_count": 39,
   "id": "c0b778cc-cb02-43d6-a81b-fc586905d81e",
   "metadata": {},
   "outputs": [
    {
     "data": {
      "text/plain": [
       "6"
      ]
     },
     "execution_count": 39,
     "metadata": {},
     "output_type": "execute_result"
    }
   ],
   "source": [
    "traces = get_traces(name='rag')\n",
    "\n",
    "len(traces)"
   ]
  },
  {
   "cell_type": "code",
   "execution_count": 30,
   "id": "d3928d37-1b60-471e-a99d-8a158ea8652b",
   "metadata": {},
   "outputs": [],
   "source": [
    "# score on a sample\n",
    "from random import sample\n",
    "\n",
    "evaluation_batch = {\n",
    "    \"question\": [],\n",
    "    \"contexts\": [],\n",
    "    \"answer\": [],\n",
    "}\n",
    "traces_sample = sample(traces, 3)\n",
    "for t in traces_sample:\n",
    "    observations = [langfuse.client.observations.get(o) for o in t.observations]\n",
    "    for o in observations:\n",
    "        if o.name == 'retrieval':\n",
    "            question = o.input['query']\n",
    "            contexts = o.output['chunks']\n",
    "        if o.name=='generation':\n",
    "            answer = o.output['answer']\n",
    "    evaluation_batch['question'].append(question)\n",
    "    evaluation_batch['contexts'].append(contexts)\n",
    "    evaluation_batch['answer'].append(answer)"
   ]
  },
  {
   "cell_type": "code",
   "execution_count": 31,
   "id": "bf83f16d-4c15-484d-9ed2-e696aa8a0e28",
   "metadata": {},
   "outputs": [
    {
     "name": "stdout",
     "output_type": "stream",
     "text": [
      "evaluating with [faithfulness]\n"
     ]
    },
    {
     "name": "stderr",
     "output_type": "stream",
     "text": [
      "100%|█████████████████████████████████████████████████████████████| 1/1 [00:37<00:00, 37.81s/it]\n"
     ]
    },
    {
     "name": "stdout",
     "output_type": "stream",
     "text": [
      "evaluating with [answer_relevancy]\n"
     ]
    },
    {
     "name": "stderr",
     "output_type": "stream",
     "text": [
      "100%|█████████████████████████████████████████████████████████████| 1/1 [00:08<00:00,  8.44s/it]\n"
     ]
    }
   ],
   "source": [
    "# run ragas evaluate\n",
    "from datasets import Dataset\n",
    "from ragas import evaluate\n",
    "from ragas.metrics import faithfulness, answer_relevancy\n",
    "\n",
    "ds = Dataset.from_dict(evaluation_batch)\n",
    "r = evaluate(ds, metrics=[faithfulness, answer_relevancy])"
   ]
  },
  {
   "cell_type": "code",
   "execution_count": 35,
   "id": "ecf51162-edc3-4c54-9fce-89595d01004d",
   "metadata": {},
   "outputs": [
    {
     "data": {
      "text/plain": [
       "{'ragas_score': 0.9880, 'faithfulness': 1.0000, 'answer_relevancy': 0.9763}"
      ]
     },
     "execution_count": 35,
     "metadata": {},
     "output_type": "execute_result"
    }
   ],
   "source": [
    "r"
   ]
  },
  {
   "cell_type": "code",
   "execution_count": 37,
   "id": "6c4bd7bf-fe47-4f95-8a4b-1b5de40c6bc6",
   "metadata": {},
   "outputs": [],
   "source": [
    "# return computed scores\n",
    "from langfuse.model import InitialScore\n",
    "\n",
    "for i, t in enumerate(traces_sample):\n",
    "    s = r.scores[i]\n",
    "    for k in s:\n",
    "        langfuse.score(InitialScore(name=k, value=s[k], traceId=t.id))"
   ]
  }
 ],
 "metadata": {
  "kernelspec": {
   "display_name": "Python 3 (ipykernel)",
   "language": "python",
   "name": "python3"
  },
  "language_info": {
   "codemirror_mode": {
    "name": "ipython",
    "version": 3
   },
   "file_extension": ".py",
   "mimetype": "text/x-python",
   "name": "python",
   "nbconvert_exporter": "python",
   "pygments_lexer": "ipython3",
   "version": "3.10.12"
  }
 },
 "nbformat": 4,
 "nbformat_minor": 5
}
